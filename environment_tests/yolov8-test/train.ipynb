{
 "cells": [
  {
   "cell_type": "markdown",
   "metadata": {},
   "source": [
    "# Settings"
   ]
  },
  {
   "cell_type": "code",
   "execution_count": 1,
   "metadata": {},
   "outputs": [
    {
     "name": "stdout",
     "output_type": "stream",
     "text": [
      "{'settings_version': '0.0.4', 'datasets_dir': '/home/arcdev/projects/follower-tello-drone/tests/yolov8-test/datasets', 'weights_dir': '/home/arcdev/projects/follower-tello-drone/tests/yolov8-test/weights', 'runs_dir': '/home/arcdev/projects/follower-tello-drone/tests/yolov8-test/runs', 'uuid': '841b52df18a30e5d730459e8e31ecf14e5b97cedb8311cdbc439a00204e90ae5', 'sync': True, 'api_key': '', 'openai_api_key': '', 'clearml': True, 'comet': True, 'dvc': True, 'hub': True, 'mlflow': True, 'neptune': True, 'raytune': True, 'tensorboard': True, 'wandb': True}\n",
      "{'settings_version': '0.0.4', 'datasets_dir': '/home/arcdev/projects/follower-tello-drone/tests/yolov8-test/datasets', 'weights_dir': '/home/arcdev/projects/follower-tello-drone/tests/yolov8-test/weights', 'runs_dir': '/home/arcdev/projects/follower-tello-drone/tests/yolov8-test/runs', 'uuid': '841b52df18a30e5d730459e8e31ecf14e5b97cedb8311cdbc439a00204e90ae5', 'sync': True, 'api_key': '', 'openai_api_key': '', 'clearml': True, 'comet': True, 'dvc': True, 'hub': True, 'mlflow': True, 'neptune': True, 'raytune': True, 'tensorboard': True, 'wandb': True}\n"
     ]
    }
   ],
   "source": [
    "import os\n",
    "from ultralytics import settings\n",
    "\n",
    "root_directory = os.path.dirname(os.path.abspath(''))\n",
    "directory = os.path.join(root_directory, 'yolov8-test')\n",
    "\n",
    "# View all settings\n",
    "print(settings)\n",
    "\n",
    "# Update a setting\n",
    "# settings.update({\"runs_dir\": \"/path/to/runs\"})\n",
    "\n",
    "# Update multiple settings\n",
    "settings.update(\n",
    "    {\n",
    "        \"datasets_dir\": os.path.join(directory, \"datasets\"), \n",
    "        \"weights_dir\": os.path.join(directory, \"weights\"),\n",
    "        \"runs_dir\": os.path.join(directory, \"runs\")\n",
    "    }\n",
    ")\n",
    "\n",
    "print(settings)\n",
    "\n",
    "# Reset settings to default values\n",
    "# settings.reset()"
   ]
  },
  {
   "cell_type": "markdown",
   "metadata": {},
   "source": [
    "# Train and Save"
   ]
  },
  {
   "cell_type": "code",
   "execution_count": null,
   "metadata": {},
   "outputs": [],
   "source": [
    "import os, cv2\n",
    "from ultralytics import YOLO\n",
    "\n",
    "directory = os.path.dirname(os.path.abspath(''))\n",
    "\n",
    "# Load a pretrained YOLO model (recommended for training)\n",
    "model = YOLO(\"yolov8n.pt\")\n",
    "model.to('cuda')\n",
    "\n",
    "# Train the model using the 'coco8.yaml' dataset for 3 epochs\n",
    "results = model.train(data=\"coco8.yaml\", epochs=3)\n",
    "\n",
    "# Evaluate the model's performance on the validation set\n",
    "evaluation = model.val()\n",
    "\n",
    "# Export the model to ONNX format\n",
    "success = model.export(format=\"onnx\")"
   ]
  }
 ],
 "metadata": {
  "kernelspec": {
   "display_name": ".venv",
   "language": "python",
   "name": "python3"
  },
  "language_info": {
   "codemirror_mode": {
    "name": "ipython",
    "version": 3
   },
   "file_extension": ".py",
   "mimetype": "text/x-python",
   "name": "python",
   "nbconvert_exporter": "python",
   "pygments_lexer": "ipython3",
   "version": "3.10.12"
  }
 },
 "nbformat": 4,
 "nbformat_minor": 2
}
